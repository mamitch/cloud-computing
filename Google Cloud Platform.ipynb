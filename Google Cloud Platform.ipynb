{
 "cells": [
  {
   "cell_type": "markdown",
   "metadata": {},
   "source": [
    "# Google Cloud Platform\n",
    "\n",
    "![](./imgs/gcp-icon.png)\n",
    "\n",
    "An alternative to AWS is Google Cloud Platform.  It offers many of the same services as AWS including:\n",
    "- Data storage\n",
    "- Virutal machines\n",
    "- Machine learning tools\n",
    "- Big data tools"
   ]
  },
  {
   "cell_type": "markdown",
   "metadata": {},
   "source": [
    "## Projects\n",
    "\n",
    "Something unique to Google Cloud Platform (GCP) is the ability to create projects.  \n",
    "\n",
    "1. From the console you can click on \"My First Project\" \n",
    "\n",
    "![](./imgs/My-First-Project.png)\n",
    "2. Then click `New Project` to create a new project. \n",
    "\n",
    "![](./imgs/New-project.png)\n",
    "\n",
    "\n",
    "Now that we have our project set up we can set up some data storage"
   ]
  },
  {
   "cell_type": "markdown",
   "metadata": {},
   "source": [
    "## Storage\n",
    "\n",
    "GCP has a variety of storage systems such as:\n",
    "\n",
    "**Cloud SQL** - Cloud SQL is a fully managed database service that makes it easy to set up and manage your relational PostgreSQL, MySQL, and SQL Server databases in the cloud.\n",
    "\n",
    "**Cloud Bigtable** - Cloud Bigtable is a NoSQL database service for use cases where low latency reads and high throughput writes, scalability, and reliability are critical.\n",
    "\n",
    "**Cloud Storage** - Cloud Storage is a service for storing your objects in Google Cloud. An object is an immutable piece of data consisting of a file of any format. You store objects in containers called buckets.  This is similar to the S3 system in AWS.\n",
    "\n",
    "Going forward we will focus on the Cloud Storage system.\n",
    "\n",
    "### Creating a bucket\n",
    "\n",
    "Buckets are the basic containers that hold your data in Cloud Storage.\n",
    "\n",
    "1. Open the Cloud Storage browser in the GCP console.\n",
    "\n",
    "![](./imgs/Cloud-storage.png)\n",
    "\n",
    "2. Click `Create Bucket`.\n",
    "\n",
    "![](./imgs/Create-bucket.png)\n",
    "\n",
    "3.  Once bucket is created you can upload your data!\n",
    "\n",
    "![](./imgs/upload-data.png)\n",
    "\n",
    "\n",
    "\n",
    "Awesome!  Now we have data available to use. "
   ]
  },
  {
   "cell_type": "markdown",
   "metadata": {},
   "source": [
    "## Setting up a Jupyter Notebook in GCP\n",
    "\n",
    "One of the most valuable tools in GCP is the ability to run a Jupyter Notebook on a virtual machine.  This functionality is a part of the Artificial Intelligence portion of GCP.\n",
    "\n",
    "1.  Nagivate to Notebooks from the console.\n",
    "\n",
    "![](./imgs/notebooks.png)\n",
    "\n",
    "2.  Enable API\n",
    "\n",
    "3. Click `New Instance` to create a new instance.  You will be prompted to select the type of instance.\n",
    "![](./imgs/new-instance.png)\n",
    "\n",
    "\n",
    "4. Once instance has loaded you can then click `OPEN JUPYTERLAB`\n",
    "\n",
    "This now opens a jupyterlab notebook on the virtual machine you selected.  From here you can:\n",
    "- use the terminal to connect to your github repository\n",
    "- run jupyter notebooks\n",
    "- access the data you stored\n",
    "- and many more!\n"
   ]
  },
  {
   "cell_type": "markdown",
   "metadata": {},
   "source": [
    "## Accessing your data\n",
    "\n",
    "Reading data from your GCP cloud storage bucket into a pandas dataframe is super easy.\n",
    "\n",
    "Using pandas you can read in your csv file directly from the google storage bucket by specifiying the path as the path to the bucket using this naming format `gs://<bucket_name>/<file_path>`"
   ]
  },
  {
   "cell_type": "code",
   "execution_count": null,
   "metadata": {},
   "outputs": [],
   "source": [
    "import pandas as pd\n",
    "\n",
    "df = pd.read_csv('gs://dog-data-0217/dog_data_2017.csv', encoding = 'latin1')\n",
    "df"
   ]
  },
  {
   "cell_type": "markdown",
   "metadata": {},
   "source": [
    "What if you have image data you are using?  Well here's how you can download the images directly from the bucket."
   ]
  },
  {
   "cell_type": "code",
   "execution_count": 2,
   "metadata": {},
   "outputs": [
    {
     "ename": "ModuleNotFoundError",
     "evalue": "No module named 'google.cloud'",
     "output_type": "error",
     "traceback": [
      "\u001b[0;31m---------------------------------------------------------------------------\u001b[0m",
      "\u001b[0;31mModuleNotFoundError\u001b[0m                       Traceback (most recent call last)",
      "\u001b[0;32m<ipython-input-2-3d6f7d020450>\u001b[0m in \u001b[0;36m<module>\u001b[0;34m\u001b[0m\n\u001b[0;32m----> 1\u001b[0;31m \u001b[0;32mfrom\u001b[0m \u001b[0mgoogle\u001b[0m\u001b[0;34m.\u001b[0m\u001b[0mcloud\u001b[0m \u001b[0;32mimport\u001b[0m \u001b[0mstorage\u001b[0m\u001b[0;34m\u001b[0m\u001b[0;34m\u001b[0m\u001b[0m\n\u001b[0m\u001b[1;32m      2\u001b[0m \u001b[0;34m\u001b[0m\u001b[0m\n\u001b[1;32m      3\u001b[0m \u001b[0;31m#instantiate a client\u001b[0m\u001b[0;34m\u001b[0m\u001b[0;34m\u001b[0m\u001b[0;34m\u001b[0m\u001b[0m\n\u001b[1;32m      4\u001b[0m \u001b[0mstorage_client\u001b[0m \u001b[0;34m=\u001b[0m \u001b[0mstorage\u001b[0m\u001b[0;34m.\u001b[0m\u001b[0mClient\u001b[0m\u001b[0;34m(\u001b[0m\u001b[0;34m)\u001b[0m\u001b[0;34m\u001b[0m\u001b[0;34m\u001b[0m\u001b[0m\n\u001b[1;32m      5\u001b[0m \u001b[0;34m\u001b[0m\u001b[0m\n",
      "\u001b[0;31mModuleNotFoundError\u001b[0m: No module named 'google.cloud'"
     ]
    }
   ],
   "source": [
    "from google.cloud import storage\n",
    "\n",
    "#instantiate a client\n",
    "storage_client = storage.Client()\n",
    "\n",
    "#define bucket you want to read from\n",
    "bucket = storage_client.bucket('dog-data-0217')  #replace with your bucket name\n",
    "#create a blob of the file you want to download\n",
    "blob = bucket.blob('dogs/') #replace wuth your object name\n",
    "#download your file\n",
    "blob.download_to_filename('dogs') #replace with destination file name"
   ]
  },
  {
   "cell_type": "code",
   "execution_count": null,
   "metadata": {},
   "outputs": [],
   "source": []
  },
  {
   "cell_type": "code",
   "execution_count": null,
   "metadata": {},
   "outputs": [],
   "source": []
  }
 ],
 "metadata": {
  "kernelspec": {
   "display_name": "Python 3",
   "language": "python",
   "name": "python3"
  },
  "language_info": {
   "codemirror_mode": {
    "name": "ipython",
    "version": 3
   },
   "file_extension": ".py",
   "mimetype": "text/x-python",
   "name": "python",
   "nbconvert_exporter": "python",
   "pygments_lexer": "ipython3",
   "version": "3.7.3"
  }
 },
 "nbformat": 4,
 "nbformat_minor": 4
}
